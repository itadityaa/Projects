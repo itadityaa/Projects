{
 "cells": [
  {
   "attachments": {},
   "cell_type": "markdown",
   "metadata": {},
   "source": [
    "### Importing the dependencies!"
   ]
  },
  {
   "cell_type": "code",
   "execution_count": 1,
   "metadata": {},
   "outputs": [
    {
     "ename": "ModuleNotFoundError",
     "evalue": "No module named 'sklearn'",
     "output_type": "error",
     "traceback": [
      "\u001b[1;31m---------------------------------------------------------------------------\u001b[0m",
      "\u001b[1;31mModuleNotFoundError\u001b[0m                       Traceback (most recent call last)",
      "Cell \u001b[1;32mIn[1], line 5\u001b[0m\n\u001b[0;32m      3\u001b[0m \u001b[39mimport\u001b[39;00m \u001b[39mmatplotlib\u001b[39;00m\u001b[39m.\u001b[39;00m\u001b[39mpyplot\u001b[39;00m \u001b[39mas\u001b[39;00m \u001b[39mplt\u001b[39;00m\n\u001b[0;32m      4\u001b[0m \u001b[39mimport\u001b[39;00m \u001b[39mseaborn\u001b[39;00m \u001b[39mas\u001b[39;00m \u001b[39msns\u001b[39;00m\n\u001b[1;32m----> 5\u001b[0m \u001b[39mfrom\u001b[39;00m \u001b[39msklearn\u001b[39;00m\u001b[39m.\u001b[39;00m\u001b[39mmodel_selection\u001b[39;00m \u001b[39mimport\u001b[39;00m train_test_split\n\u001b[0;32m      6\u001b[0m get_ipython()\u001b[39m.\u001b[39mrun_line_magic(\u001b[39m'\u001b[39m\u001b[39mmatplotlib\u001b[39m\u001b[39m'\u001b[39m, \u001b[39m'\u001b[39m\u001b[39minline\u001b[39m\u001b[39m'\u001b[39m)\n",
      "\u001b[1;31mModuleNotFoundError\u001b[0m: No module named 'sklearn'"
     ]
    }
   ],
   "source": [
    "import pandas as pd\n",
    "import numpy as np\n",
    "import matplotlib.pyplot as plt\n",
    "import seaborn as sns\n",
    "from sklearn.model_selection import train_test_split\n",
    "%matplotlib inline"
   ]
  },
  {
   "attachments": {},
   "cell_type": "markdown",
   "metadata": {},
   "source": [
    "### Importing the dataset-"
   ]
  },
  {
   "cell_type": "code",
   "execution_count": null,
   "metadata": {},
   "outputs": [],
   "source": [
    "CC_data = pd.read_csv('UCI_Credit_Card.csv')"
   ]
  },
  {
   "attachments": {},
   "cell_type": "markdown",
   "metadata": {},
   "source": [
    "### Exploring the data-"
   ]
  },
  {
   "cell_type": "code",
   "execution_count": null,
   "metadata": {},
   "outputs": [],
   "source": [
    "CC_data.info()"
   ]
  },
  {
   "attachments": {},
   "cell_type": "markdown",
   "metadata": {},
   "source": [
    "    - 25 columns\n",
    "    - No null/missing values\n",
    "    - Target variable => default.payment.next.month (Column 25) "
   ]
  },
  {
   "cell_type": "code",
   "execution_count": null,
   "metadata": {},
   "outputs": [],
   "source": [
    "CC_data.iloc[:, 1:].describe().T # Ignores the ID column"
   ]
  },
  {
   "attachments": {},
   "cell_type": "markdown",
   "metadata": {},
   "source": [
    "### Takeaways: \n",
    "    - 30,000 rows in the dataset. Target variable has two values- 0, and 1.\n",
    "    - Age varies between 21 and 79\n",
    "### Questions to answer:\n",
    "    - Does age play a role in credit card default\n",
    "    - Are more men going default then women, or is the gender division is the same for defaulters.\n",
    "    - Does education lead to less defaults.\n",
    "    - Prediction of future defaults based on given data."
   ]
  },
  {
   "cell_type": "code",
   "execution_count": null,
   "metadata": {},
   "outputs": [],
   "source": [
    "CC_data.head()"
   ]
  },
  {
   "cell_type": "code",
   "execution_count": null,
   "metadata": {},
   "outputs": [],
   "source": [
    "CC_data.tail()"
   ]
  },
  {
   "attachments": {},
   "cell_type": "markdown",
   "metadata": {},
   "source": [
    "### Visited the website to read more about the dataset:\n",
    "    - Gender: 1-Male, and 2-Female\n",
    "    - LIMIT_BAL: Amount of given credit in NT dollars\n",
    "    - Education: 1-Graduate School, 2-University, 3-High School, 4-Others, 5, and 6- Unknown\n",
    "    - Marriage: 1- Married, 2-Single, 3-Others\n",
    "    - Pay_X (Repayment status): -1-Pay Duly, 1-Payment delay for one month, 2- Delay for two months, ..., 9-Payment delay for 9 months\n",
    "    - Bill_AMTX: Bill amount generated\n",
    "    - Pay_AMTX: Amount of previous payment\n",
    "    - Default payment: 1-Yes, and 0-No   "
   ]
  },
  {
   "attachments": {},
   "cell_type": "markdown",
   "metadata": {},
   "source": [
    "### Cleaning the dataset"
   ]
  },
  {
   "cell_type": "code",
   "execution_count": null,
   "metadata": {},
   "outputs": [],
   "source": [
    "CC_data['EDUCATION'].value_counts()"
   ]
  },
  {
   "cell_type": "code",
   "execution_count": null,
   "metadata": {},
   "outputs": [],
   "source": [
    "# Education column has both 5 and 6 for unknown, combining both of them. Also, don't know what 0 is here. Merging that with 5 as well.\n",
    "CC_data[\"EDUCATION\"].replace((0, 6), 5 , inplace=True)\n",
    "CC_data['EDUCATION'].value_counts()"
   ]
  },
  {
   "cell_type": "code",
   "execution_count": null,
   "metadata": {},
   "outputs": [],
   "source": [
    "CC_data['MARRIAGE'].value_counts()"
   ]
  },
  {
   "cell_type": "code",
   "execution_count": null,
   "metadata": {},
   "outputs": [],
   "source": [
    "# Merging 0 and 3 for the Marriage feature.\n",
    "CC_data['MARRIAGE'].replace((0), 3, inplace=True)\n",
    "CC_data['MARRIAGE'].value_counts()"
   ]
  },
  {
   "cell_type": "code",
   "execution_count": null,
   "metadata": {},
   "outputs": [],
   "source": [
    "CC_data.isnull().sum() # Double-checking for the null values."
   ]
  },
  {
   "attachments": {},
   "cell_type": "markdown",
   "metadata": {},
   "source": [
    "### Exploratory Data Analysis"
   ]
  },
  {
   "cell_type": "code",
   "execution_count": null,
   "metadata": {},
   "outputs": [],
   "source": [
    "sns.pairplot(data=CC_data[['SEX', 'EDUCATION', 'MARRIAGE', 'AGE', 'default.payment.next.month']])\n",
    "plt.show()"
   ]
  },
  {
   "cell_type": "code",
   "execution_count": null,
   "metadata": {},
   "outputs": [],
   "source": [
    "CC_data.corr()"
   ]
  },
  {
   "attachments": {},
   "cell_type": "markdown",
   "metadata": {},
   "source": [
    "    - Checking for multi-collinearity.\n",
    "    - The bill amounts are highly correlated. This makes some sense! Keeping the data as it is, can use feature engineering to get better results.\n",
    "    - Rest of the data looks good."
   ]
  },
  {
   "cell_type": "code",
   "execution_count": null,
   "metadata": {},
   "outputs": [],
   "source": [
    "# We can also change the column names for PAY_0, and our target variable.\n",
    "CC_data.rename(columns={'default.payment.next.month':'default_pay', 'PAY_0':'PAY_1'}, inplace=True)"
   ]
  },
  {
   "attachments": {},
   "cell_type": "markdown",
   "metadata": {},
   "source": [
    "    - Is there any relation between age, and the account balance.\n",
    "    - The distribution of dataset, how many defaulters."
   ]
  },
  {
   "cell_type": "code",
   "execution_count": null,
   "metadata": {},
   "outputs": [],
   "source": [
    "defaut_count = (CC_data['default_pay'].value_counts(normalize=True))*100\n",
    "defaut_count.plot(kind='bar', figsize=(6, 6), title='Dataset Ditribution')\n",
    "plt.xticks(rotation=0)\n",
    "for x, y in zip([0, 1], defaut_count):\n",
    "    plt.text(x, y, y)\n",
    "plt.show()"
   ]
  },
  {
   "cell_type": "code",
   "execution_count": null,
   "metadata": {},
   "outputs": [],
   "source": [
    "sns.relplot(data=CC_data, x='AGE', y='LIMIT_BAL', kind='line')\n",
    "plt.title('Account Balance related to Age')\n",
    "plt.show()"
   ]
  },
  {
   "attachments": {},
   "cell_type": "markdown",
   "metadata": {},
   "source": [
    "    - More than 70% of population did not default.\n",
    "    - With age the income seems to grow, with an exception of age around 60 years. "
   ]
  },
  {
   "cell_type": "code",
   "execution_count": null,
   "metadata": {},
   "outputs": [],
   "source": [
    "bins = [20,30,40,50,60,70,80]\n",
    "names = ['21-30','31-40','41-50','51-60','61-70','71-80']\n",
    "CC_data['Age_distribution'] = pd.cut(x=CC_data['AGE'], bins=bins, labels=names, right=True)\n",
    "# print(CC_data.Age_distribution)\n",
    "\n",
    "# age_cnt = CC_data['Age_distribution'].value_counts()\n",
    "age_0 = (CC_data['Age_distribution'][CC_data['default_pay']==0]).value_counts()\n",
    "age_1 = (CC_data['Age_distribution'][CC_data['default_pay']==1]).value_counts()\n",
    "\n",
    "plt.subplots(figsize=(8, 5))\n",
    "plt.bar(age_0.index, age_0.values, label='0')\n",
    "plt.bar(age_1.index, age_1.values, label='1')\n",
    "\n",
    "for x, y in zip(names, age_0):\n",
    "    plt.text(x, y, y)\n",
    "for x, y in zip(names, age_1):\n",
    "    plt.text(x, y, y)\n",
    "plt.title('Number of clients in each age group')\n",
    "plt.legend(loc='upper right')\n",
    "plt.show()\n"
   ]
  },
  {
   "attachments": {},
   "cell_type": "markdown",
   "metadata": {},
   "source": [
    "    - We have maximum clients from 21-30 age group with a very close comparision with the second age group, 31-40. Hence, it can be observed that with increasing age group the number of clients that will default the payment next month is decreasing. AGE is important feature to predict the default payment for next month."
   ]
  },
  {
   "cell_type": "code",
   "execution_count": null,
   "metadata": {},
   "outputs": [],
   "source": [
    "sns.barplot(data=CC_data, x='Age_distribution', y='LIMIT_BAL', hue='default_pay', errorbar=('ci', 0))\n",
    "plt.legend(loc='upper left')\n",
    "plt.show()"
   ]
  },
  {
   "cell_type": "code",
   "execution_count": null,
   "metadata": {},
   "outputs": [],
   "source": [
    "sns.barplot(data=CC_data, x='default_pay', y='AGE', hue='MARRIAGE')\n",
    "plt.show()"
   ]
  },
  {
   "cell_type": "code",
   "execution_count": null,
   "metadata": {},
   "outputs": [],
   "source": [
    "graph = sns.FacetGrid(CC_data, row='default_pay', col='MARRIAGE') # Making a grid! Subplot for each and every value for row, and column variable.\n",
    "graph.map(plt.hist, 'AGE', color='orange')\n",
    "plt.show()"
   ]
  },
  {
   "attachments": {},
   "cell_type": "markdown",
   "metadata": {},
   "source": [
    "    - Married person between 30 and 50, and unmarried clients of age group 20-30 tend to default payment. With unmarried clients having a higher probability to default payment. Hence including MARRIAGE to find probability of defaulting the payment next month can be useful."
   ]
  },
  {
   "cell_type": "code",
   "execution_count": null,
   "metadata": {},
   "outputs": [],
   "source": [
    "graph = sns.FacetGrid(CC_data, row='default_pay', col='SEX')\n",
    "graph.map(plt.hist, 'AGE', color='orange')\n",
    "plt.show()"
   ]
  },
  {
   "attachments": {},
   "cell_type": "markdown",
   "metadata": {},
   "source": [
    "    - Females from age group 20-30 have very high tendency to default the payment as oposed to males in all age brackets."
   ]
  },
  {
   "cell_type": "code",
   "execution_count": null,
   "metadata": {},
   "outputs": [],
   "source": [
    "plt.figure(figsize=(10, 4))\n",
    "edu_count = sns.countplot(data=CC_data, x='EDUCATION', hue='default_pay')\n",
    "edu_count.set_xticklabels(['School_Grad','University_Grad','High School_Grad','Other',\"UNKNOWN\"])\n",
    "plt.show()"
   ]
  },
  {
   "attachments": {},
   "cell_type": "markdown",
   "metadata": {},
   "source": [
    "    - Even though university graduates tend to default the least among other groups, they also tend to default the most when compared to other people with different level of education. It might mean that university graduates may have more credit cards then other people. Have to check this relation as well."
   ]
  },
  {
   "cell_type": "code",
   "execution_count": null,
   "metadata": {},
   "outputs": [],
   "source": [
    "plt.figure(figsize=(12,4)) \n",
    "sns.set(font_scale=1)\n",
    "# kernel density estimation\n",
    "sns.kdeplot(CC_data.loc[(CC_data['default_pay'] == 0), 'LIMIT_BAL'], label='Did not default', fill=True)\n",
    "sns.kdeplot(CC_data.loc[(CC_data['default_pay'] == 1), 'LIMIT_BAL'], label='Default', fill=True)\n",
    "plt.ticklabel_format(style='plain', axis='x') \n",
    "plt.ylabel('')\n",
    "plt.legend()\n",
    "plt.show()"
   ]
  },
  {
   "attachments": {},
   "cell_type": "markdown",
   "metadata": {},
   "source": [
    "    - Most of the population has less than 200K credit limit.\n",
    "    - Most of the defaults fall within the population. "
   ]
  },
  {
   "cell_type": "code",
   "execution_count": null,
   "metadata": {},
   "outputs": [],
   "source": [
    "CC_data['LimitBin'] = pd.cut(CC_data['LIMIT_BAL'],[5000, 50000, 100000, 150000, 200000, 300000, 400000, 500000, 1100000])"
   ]
  },
  {
   "cell_type": "code",
   "execution_count": null,
   "metadata": {},
   "outputs": [],
   "source": [
    "plt.figure(figsize=(14,4))\n",
    "sns.set(font_scale=1)\n",
    "CC_data['LimitBin'] = CC_data['LimitBin'].astype('str') # astype() : cast a pandas object to a specified dtype\n",
    "\n",
    "LimitBin_order = ['(5000, 50000]', '(50000, 100000]', '(100000, 150000]', '(150000, 200000]',\n",
    "                '(200000, 300000]', '(300000, 400000]', '(400000, 500000]', '(500000, 1100000]']\n",
    "\n",
    "ax = sns.countplot(data=CC_data, x='LimitBin' , hue=\"default_pay\", order = LimitBin_order)\n",
    "\n",
    "plt.xlabel(\"Amount of Given Credit\", fontsize= 12)\n",
    "plt.ylabel(\"# of Clients\", fontsize= 12)\n",
    "plt.ylim(0,8000)\n",
    "ax.tick_params(axis=\"x\", labelsize= 9.5)\n",
    "\n",
    "for p in ax.patches:\n",
    "    ax.annotate((p.get_height()), (p.get_x()+0.075, p.get_height()+300))\n",
    "    \n",
    "plt.show()"
   ]
  },
  {
   "cell_type": "code",
   "execution_count": null,
   "metadata": {},
   "outputs": [],
   "source": [
    "plt.figure(figsize=(14,4))\n",
    "sns.set(font_scale=1)\n",
    "ax = sns.barplot(x = \"LimitBin\", y = \"default_pay\", data = CC_data, order = LimitBin_order, errorbar=None)\n",
    "\n",
    " \n",
    "plt.xlabel(\"Amount of Given Credit\", fontsize= 12)\n",
    "plt.ylabel(\"% of Default\", fontsize= 12)\n",
    "plt.ylim(0, 0.4)\n",
    "\n",
    "for p in ax.patches:\n",
    "    ax.annotate(\"%.2f\" %(p.get_height()), (p.get_x()+0.25, p.get_height()+0.03), fontsize=13)\n",
    "\n",
    "plt.show()"
   ]
  },
  {
   "attachments": {},
   "cell_type": "markdown",
   "metadata": {},
   "source": [
    "    - More credit, lesser the chance of default.\n",
    "    - Over 30% users with a credit less than 50k defaulted."
   ]
  },
  {
   "attachments": {},
   "cell_type": "markdown",
   "metadata": {},
   "source": [
    "### Data Preparation!"
   ]
  },
  {
   "cell_type": "code",
   "execution_count": null,
   "metadata": {},
   "outputs": [],
   "source": [
    "CC_data.rename(columns=lambda x: x.lower(), inplace=True)"
   ]
  },
  {
   "cell_type": "code",
   "execution_count": null,
   "metadata": {},
   "outputs": [],
   "source": [
    "# Education\n",
    "CC_data['grad_school'] = (CC_data['education'] == 1).astype('int')\n",
    "CC_data['university'] = (CC_data['education'] == 2).astype('int')\n",
    "CC_data['high_school'] = (CC_data['education'] == 3).astype('int')\n",
    "CC_data.drop('education', axis=1, inplace=True)\n",
    "\n",
    "# Gender\n",
    "CC_data['male'] = (CC_data['sex']==1).astype('int')\n",
    "CC_data.drop('sex', axis=1, inplace=True)\n",
    "\n",
    "# Married\n",
    "CC_data['married'] = (CC_data['marriage'] == 1).astype('int')\n",
    "CC_data.drop('marriage', axis=1, inplace=True)\n",
    "\n",
    "# For pay features if the <= 0 then it means it was not delayed\n",
    "pay_features = ['pay_1','pay_2','pay_3','pay_4','pay_5','pay_6']\n",
    "for p in pay_features:\n",
    "    CC_data.loc[CC_data[p]<=0, p] = 0"
   ]
  },
  {
   "cell_type": "code",
   "execution_count": null,
   "metadata": {},
   "outputs": [],
   "source": [
    "CC_data.head(10)"
   ]
  },
  {
   "cell_type": "code",
   "execution_count": null,
   "metadata": {},
   "outputs": [],
   "source": [
    "CC_data .drop('limitbin', axis=1, inplace=True)\n",
    "CC_data.drop('age_distribution', axis=1, inplace=True)\n",
    "CC_data.drop('id', axis=1, inplace=True)"
   ]
  },
  {
   "cell_type": "code",
   "execution_count": null,
   "metadata": {},
   "outputs": [],
   "source": [
    "x = CC_data.drop('default_pay', axis=1)\n",
    "y = CC_data['default_pay']"
   ]
  },
  {
   "cell_type": "code",
   "execution_count": null,
   "metadata": {},
   "outputs": [],
   "source": [
    "x.head()"
   ]
  },
  {
   "cell_type": "code",
   "execution_count": null,
   "metadata": {},
   "outputs": [],
   "source": [
    "y.head()"
   ]
  }
 ],
 "metadata": {
  "kernelspec": {
   "display_name": "Python 3",
   "language": "python",
   "name": "python3"
  },
  "language_info": {
   "codemirror_mode": {
    "name": "ipython",
    "version": 3
   },
   "file_extension": ".py",
   "mimetype": "text/x-python",
   "name": "python",
   "nbconvert_exporter": "python",
   "pygments_lexer": "ipython3",
   "version": "3.10.9"
  },
  "orig_nbformat": 4,
  "vscode": {
   "interpreter": {
    "hash": "15c1ea3e615c3dd877467eea58ff0c98023ec480fe827a8529e21e9d4d8c6d4b"
   }
  }
 },
 "nbformat": 4,
 "nbformat_minor": 2
}
